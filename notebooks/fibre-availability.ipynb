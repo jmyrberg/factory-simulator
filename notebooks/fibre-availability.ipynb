{
 "cells": [
  {
   "cell_type": "code",
   "execution_count": 1,
   "metadata": {},
   "outputs": [],
   "source": [
    "# !pip install openpyxl"
   ]
  },
  {
   "cell_type": "code",
   "execution_count": 10,
   "metadata": {},
   "outputs": [],
   "source": [
    "import json\n",
    "import sqlite3\n",
    "import pandas as pd\n",
    "\n",
    "from datetime import datetime\n",
    "from pytz import timezone"
   ]
  },
  {
   "cell_type": "code",
   "execution_count": 12,
   "metadata": {},
   "outputs": [
    {
     "data": {
      "text/plain": [
       "'20220321-162225'"
      ]
     },
     "execution_count": 12,
     "metadata": {},
     "output_type": "execute_result"
    }
   ],
   "source": [
    "now_str = datetime.now(timezone('Europe/Helsinki')).strftime('%Y%m%d-%H%M%S')\n",
    "now_str"
   ]
  },
  {
   "cell_type": "code",
   "execution_count": 3,
   "metadata": {},
   "outputs": [],
   "source": [
    "con = sqlite3.connect('../results/crawling.sqlite')"
   ]
  },
  {
   "cell_type": "code",
   "execution_count": 4,
   "metadata": {},
   "outputs": [],
   "source": [
    "def flatten_content(x):\n",
    "    return {k: v for d in x for k, v in list(d.items())} if x else {}\n",
    "\n",
    "\n",
    "def has_fibre(x):\n",
    "    xs = str(x).lower()\n",
    "    xo = str(x)\n",
    "    d = {}\n",
    "    # Either substring in string\n",
    "    yes_words = [\n",
    "        'valokuitu', 'talokuitu', 'kuituliit', 'kuituvaraus', 'kuitukaap',\n",
    "        'kuituyhteys', 'kuituverk', 'kiinteistökuit', 'kuituvalmiu',\n",
    "        'kuitunett', 'kuitu asen', 'kuituiitt', 'talokuitu', 'talo kuitu'\n",
    "    ]\n",
    "    for w in yes_words:\n",
    "        if w in xs:\n",
    "            fibre_idx = xs.find(w)\n",
    "            d['evidence'] = xo[fibre_idx - 50:fibre_idx + 50]\n",
    "            d['has_fibre'] = 'yes'\n",
    "            return d\n",
    "    # Either kuitu in tietoliikenne\n",
    "    not_words = [\n",
    "        'kuitubitu', 'lasikuitu', 'kuituvalo', 'puu-kuitu', 'puukuitu',\n",
    "        'kuitusemen', 'kuituelemen', 'kuitunen', 'kuituvalais',\n",
    "        'kuitutapet', 'kuitulevy', 'kuitukatu', 'kuituprojekt'\n",
    "    ]\n",
    "    if 'kuitu' in xs and not any(w in xs for w in not_words):\n",
    "        fibre_idx = xs.find('kuitu')\n",
    "        d['evidence'] = xo[fibre_idx - 50:fibre_idx + 50]\n",
    "        d['has_fibre'] = 'likely'\n",
    "        return d\n",
    "    elif 'kuitu' in xs:\n",
    "        fibre_idx = xs.find('kuitu')\n",
    "        d['evidence'] = xo[fibre_idx - 50:fibre_idx + 50]\n",
    "        d['has_fibre'] = 'unlikely'\n",
    "        return d\n",
    "    else:\n",
    "        d['evidence'] = None\n",
    "        d['has_fibre'] = 'no'\n",
    "        return d"
   ]
  },
  {
   "cell_type": "code",
   "execution_count": 5,
   "metadata": {},
   "outputs": [],
   "source": [
    "listings = (\n",
    "    pd.read_sql('SELECT * FROM LISTINGS', con)\n",
    "    .assign(content = lambda x:\n",
    "        x['content'].apply(lambda x: json.loads(x) if x else None))\n",
    "    .assign(has_fibre = lambda x: x['content'].apply(has_fibre))\n",
    "    .pipe(lambda df:\n",
    "        df\n",
    "        .drop('has_fibre', axis=1)\n",
    "        .join(df['has_fibre'].apply(pd.Series))\n",
    "    )\n",
    "    .pipe(lambda df:\n",
    "        df.join(pd.DataFrame.from_records(\n",
    "            df['content'].apply(flatten_content).values))\n",
    "    )\n",
    ")"
   ]
  },
  {
   "cell_type": "code",
   "execution_count": 21,
   "metadata": {},
   "outputs": [
    {
     "data": {
      "text/plain": [
       "3062"
      ]
     },
     "execution_count": 21,
     "metadata": {},
     "output_type": "execute_result"
    }
   ],
   "source": [
    "fibre = (\n",
    "    listings\n",
    "    .assign(address = lambda x: x['title'].apply(lambda x:\n",
    "            x.split('m²')[-1].split(',')[0] if pd.notnull(x) else None))\n",
    "    .assign(postal_code = lambda x: x['title'].apply(lambda x:\n",
    "            x.split('m²')[-1].split(',')[-1].strip().split(' ')[0]\n",
    "            if pd.notnull(x) else None))\n",
    "    .assign(postal_area = lambda x: x['title'].apply(lambda x:\n",
    "            x.split('m²')[-1].split(',')[-1].strip().split(' ')[1]\n",
    "            if pd.notnull(x) else None))\n",
    "    .query('address.notna()')\n",
    "    [['has_fibre', 'address', 'postal_code', 'postal_area', 'evidence',\n",
    "      'url']]\n",
    "    .sort_values(by=['postal_code', 'address'])\n",
    ")\n",
    "len(fibre.query('has_fibre == \"yes\"'))"
   ]
  },
  {
   "cell_type": "code",
   "execution_count": 14,
   "metadata": {},
   "outputs": [],
   "source": [
    "fibre.to_excel(f'../results/fibre-availability-test-{now_str}.xlsx', index=False)"
   ]
  },
  {
   "cell_type": "code",
   "execution_count": 20,
   "metadata": {},
   "outputs": [
    {
     "data": {
      "text/plain": [
       "35834"
      ]
     },
     "execution_count": 20,
     "metadata": {},
     "output_type": "execute_result"
    }
   ],
   "source": [
    "coop = (\n",
    "    listings\n",
    "    .assign(address = lambda x: x['title'].apply(lambda x:\n",
    "            x.split('m²')[-1].split(',')[0] if pd.notnull(x) else None))\n",
    "    .assign(postal_code = lambda x: x['title'].apply(lambda x:\n",
    "            x.split('m²')[-1].split(',')[-1].strip().split(' ')[0]\n",
    "            if pd.notnull(x) else None))\n",
    "    .assign(postal_area = lambda x: x['title'].apply(lambda x:\n",
    "            x.split('m²')[-1].split(',')[-1].strip().split(' ')[1]\n",
    "            if pd.notnull(x) else None))\n",
    "    .rename(columns={\n",
    "        'Taloyhtiön nimi': 'coop'\n",
    "    })\n",
    "    .query('address.notna() and coop.notna()')\n",
    "    [['address', 'postal_code', 'postal_area', 'coop', 'url']]\n",
    ")\n",
    "len(coop)"
   ]
  },
  {
   "cell_type": "code",
   "execution_count": 22,
   "metadata": {},
   "outputs": [],
   "source": [
    "coop.to_excel(f'../results/fibre-coop-test-{now_str}.xlsx', index=False)"
   ]
  }
 ],
 "metadata": {
  "interpreter": {
   "hash": "ccd66c33acc0da534aa97b052d58510665ba7e188e990569f0671a1ac7b3abff"
  },
  "kernelspec": {
   "display_name": "Python 3.9.7 ('fibre-availability-crawler')",
   "language": "python",
   "name": "python3"
  },
  "language_info": {
   "codemirror_mode": {
    "name": "ipython",
    "version": 3
   },
   "file_extension": ".py",
   "mimetype": "text/x-python",
   "name": "python",
   "nbconvert_exporter": "python",
   "pygments_lexer": "ipython3",
   "version": "3.9.7"
  },
  "orig_nbformat": 4
 },
 "nbformat": 4,
 "nbformat_minor": 2
}
