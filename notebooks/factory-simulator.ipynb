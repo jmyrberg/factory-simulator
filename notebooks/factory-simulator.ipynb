{
 "cells": [
  {
   "cell_type": "code",
   "execution_count": null,
   "metadata": {},
   "outputs": [],
   "source": [
    "import logging\n",
    "\n",
    "from src.simulator.factory import Factory\n",
    "\n",
    "\n",
    "logging.basicConfig(\n",
    "     filename='run.log',\n",
    "     filemode='w',\n",
    "     level=logging.INFO,\n",
    "     format='%(asctime)s - %(name)s - %(levelname)-7s - %(message)s',\n",
    "     datefmt='%H:%M:%S'\n",
    " )\n",
    "logger = logging.getLogger(__name__)\n",
    "\n",
    "\n",
    "logger.info('Starting simulation')\n",
    "factory = Factory.from_config('config/factory.yml')\n",
    "factory.run(7)\n",
    "factory.plot()"
   ]
  },
  {
   "cell_type": "code",
   "execution_count": null,
   "metadata": {},
   "outputs": [],
   "source": [
    "# Save as csv.gz\n",
    "import shutil\n",
    "import arrow\n",
    "import pandas as pd\n",
    "\n",
    "ts = arrow.now('Europe/Helsinki').strftime(\"%Y%m%d-%H%M%S\")\n",
    "shutil.copy('config/factory.yml', f'results/factory-{ts}.yml')\n",
    "df = pd.read_csv('results/run.csv')\n",
    "print(df.columns.tolist())\n",
    "df.to_csv(f'results/run-{ts}.csv.gz', compression='gzip', index=False)"
   ]
  },
  {
   "cell_type": "code",
   "execution_count": null,
   "metadata": {},
   "outputs": [],
   "source": [
    "(\n",
    "    df\n",
    "    .set_index('Factory.Datetime')\n",
    "    ['Machine.ErrorCode']\n",
    "    .value_counts(True)\n",
    ")"
   ]
  },
  {
   "cell_type": "code",
   "execution_count": null,
   "metadata": {},
   "outputs": [],
   "source": [
    "(\n",
    "    df\n",
    "    .groupby(['Machine.ErrorCode', 'Machine.State'])\n",
    "    .size()\n",
    ")"
   ]
  },
  {
   "cell_type": "code",
   "execution_count": null,
   "metadata": {},
   "outputs": [],
   "source": [
    "(\n",
    "    df\n",
    "    .query('`Machine.IsPlannedOperatingTime` == 1')\n",
    "    .set_index('Factory.Datetime')\n",
    "    .assign(\n",
    "        mins=1,\n",
    "        cummins=lambda x: x['mins'].cumsum()\n",
    "    )\n",
    "    .assign(\n",
    "        oee=lambda x:\n",
    "            (\n",
    "            x['Product.SuccessQuantity']\n",
    "            + x['Product.FailedQuantity']\n",
    "        ) / x['cummins'] * 60\n",
    "    )\n",
    "    ['oee']\n",
    "    .plot(ylim=(0, 10))\n",
    ")"
   ]
  },
  {
   "cell_type": "code",
   "execution_count": null,
   "metadata": {},
   "outputs": [],
   "source": [
    "(\n",
    "    df\n",
    "    .set_index('Factory.Datetime')\n",
    "    .select_dtypes('number')\n",
    "    # [['Machine.ErrorCode']]\n",
    "    .plot(subplots=True, figsize=(14, 8 * len(df.columns)))\n",
    ");"
   ]
  },
  {
   "cell_type": "code",
   "execution_count": null,
   "metadata": {},
   "outputs": [],
   "source": [
    "# TODO: Refactor / cleanup all\n",
    "# TODO: Sensor based alarms/events\n",
    "# TODO: Locking mechanism when filling stuff"
   ]
  }
 ],
 "metadata": {
  "kernelspec": {
   "display_name": "factory-simulator",
   "language": "python",
   "name": "python3"
  },
  "language_info": {
   "codemirror_mode": {
    "name": "ipython",
    "version": 3
   },
   "file_extension": ".py",
   "mimetype": "text/x-python",
   "name": "python",
   "nbconvert_exporter": "python",
   "pygments_lexer": "ipython3",
   "version": "3.10.8"
  },
  "orig_nbformat": 4,
  "vscode": {
   "interpreter": {
    "hash": "3e92513513e640cd7c59df891346de99ac6e7d1ea0b4fa64da2aa06041f17f4c"
   }
  }
 },
 "nbformat": 4,
 "nbformat_minor": 2
}
