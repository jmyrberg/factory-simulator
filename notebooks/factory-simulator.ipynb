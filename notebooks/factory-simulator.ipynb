{
 "cells": [
  {
   "cell_type": "code",
   "execution_count": null,
   "metadata": {},
   "outputs": [],
   "source": [
    "import logging\n",
    "import sys\n",
    "\n",
    "from src.simulator.factory import Factory\n",
    "\n",
    "\n",
    "logging.basicConfig(\n",
    "     filename='run.log',\n",
    "     filemode='w',\n",
    "     level=logging.INFO,\n",
    "     format='%(asctime)s - %(name)s - %(levelname)-7s - %(message)s',\n",
    "     datefmt='%H:%M:%S'\n",
    " )\n",
    "logger = logging.getLogger(__name__)\n",
    "\n",
    "\n",
    "logger.info('Starting simulation')\n",
    "factory = Factory.from_config('config/factory.yml')\n",
    "factory.run(365)\n",
    "# factory.plot()"
   ]
  },
  {
   "cell_type": "code",
   "execution_count": null,
   "metadata": {},
   "outputs": [],
   "source": [
    "# # Save as csv.gz\n",
    "# import shutil\n",
    "# import arrow\n",
    "# import pandas as pd\n",
    "\n",
    "# ts = arrow.now('Europe/Helsinki').strftime(\"%Y%m%d-%H%M%S\")\n",
    "# shutil.copy('config/factory.yml', f'results/factory-{ts}.yml')\n",
    "# df = pd.read_csv('results/run.csv')\n",
    "# print(df.columns.tolist())\n",
    "# df.to_csv(f'results/run-{ts}.csv.gz', compression='gzip', index=False)"
   ]
  },
  {
   "cell_type": "code",
   "execution_count": null,
   "metadata": {},
   "outputs": [],
   "source": [
    "# (\n",
    "#     df\n",
    "#     .set_index('Factory.Datetime')\n",
    "#     [['Machine.Temperature']]\n",
    "#     .plot()\n",
    "# )"
   ]
  },
  {
   "cell_type": "code",
   "execution_count": null,
   "metadata": {},
   "outputs": [],
   "source": [
    "# TODO: Refactor / cleanup all\n",
    "# TODO: Sensor based alarms/events\n",
    "# TODO: Locking mechanism when putting stuff"
   ]
  },
  {
   "attachments": {},
   "cell_type": "markdown",
   "metadata": {},
   "source": [
    "Missing:\n",
    "- Planned maintenance X\n",
    "- Material / batch ids (materiaali-id voi olla string) X\n",
    "- Collectng events (debug / info / warning / error) --> logs not for now, separate variable when necessary, error/stop code most critical for now (integer) --> exact variables in Excel\n",
    "- Mappings from string states into integers / boolean X\n",
    "- Randomization of fails - \"global fail proba based on last maintenance\"\n",
    "- Integration: Pull/push? Taking snapshots of the machine state vs. pushing e.g. error X\n",
    "- Cumulative: Consumable X\n",
    "- Program: add part counter X / target / postprocessing step that identifies failed  \n",
    "- Randomization of time X\n",
    "- Running in AWS / Noux environments / CSV\n",
    "\n",
    "2023 csv:t, jatketaan kumulatiivisia\n"
   ]
  },
  {
   "cell_type": "code",
   "execution_count": null,
   "metadata": {},
   "outputs": [],
   "source": []
  },
  {
   "cell_type": "code",
   "execution_count": null,
   "metadata": {},
   "outputs": [],
   "source": []
  },
  {
   "cell_type": "code",
   "execution_count": null,
   "metadata": {},
   "outputs": [],
   "source": []
  },
  {
   "cell_type": "code",
   "execution_count": null,
   "metadata": {},
   "outputs": [],
   "source": []
  },
  {
   "cell_type": "code",
   "execution_count": null,
   "metadata": {},
   "outputs": [],
   "source": []
  }
 ],
 "metadata": {
  "kernelspec": {
   "display_name": "factory-simulator",
   "language": "python",
   "name": "python3"
  },
  "language_info": {
   "codemirror_mode": {
    "name": "ipython",
    "version": 3
   },
   "file_extension": ".py",
   "mimetype": "text/x-python",
   "name": "python",
   "nbconvert_exporter": "python",
   "pygments_lexer": "ipython3",
   "version": "3.10.8"
  },
  "orig_nbformat": 4,
  "vscode": {
   "interpreter": {
    "hash": "3e92513513e640cd7c59df891346de99ac6e7d1ea0b4fa64da2aa06041f17f4c"
   }
  }
 },
 "nbformat": 4,
 "nbformat_minor": 2
}
