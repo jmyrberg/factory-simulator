{
 "cells": [
  {
   "cell_type": "code",
   "execution_count": null,
   "metadata": {},
   "outputs": [],
   "source": [
    "%load_ext autoreload\n",
    "%autoreload 2"
   ]
  },
  {
   "cell_type": "code",
   "execution_count": 1,
   "metadata": {},
   "outputs": [
    {
     "name": "stdout",
     "output_type": "stream",
     "text": [
      "01:36:03 - __main__ - INFO    - Starting simulation\n"
     ]
    }
   ],
   "source": [
    "# Simulation\n",
    "import logging\n",
    "import sys\n",
    "\n",
    "import arrow\n",
    "import matplotlib.pyplot as plt\n",
    "import pandas as pd\n",
    "import simpy\n",
    "\n",
    "from src.machine import *\n",
    "from src.operator import *\n",
    "from src.utils import *\n",
    "from src.base import *\n",
    "from src.material import *\n",
    "from src.schedule import *\n",
    "from src.product import *\n",
    "from src.consumable import *\n",
    "from src.bom import BOM\n",
    "\n",
    "\n",
    "logging.basicConfig(\n",
    "     stream=sys.stdout,\n",
    "     level=logging.DEBUG,\n",
    "     format='%(asctime)s - %(name)s - %(levelname)-7s - %(message)s',\n",
    "     datefmt='%H:%M:%S'\n",
    " )\n",
    "logger = logging.getLogger(__name__)\n",
    "logger.info('Starting simulation')\n",
    "\n",
    "\n",
    "start = arrow.now('Europe/Helsinki')\n",
    "env = simpy.Environment(initial_time=start.timestamp())"
   ]
  },
  {
   "cell_type": "code",
   "execution_count": 2,
   "metadata": {},
   "outputs": [],
   "source": [
    "import yaml\n",
    "from copy import deepcopy\n",
    "\n",
    "\n",
    "with open('config/factory.yml', 'r') as f:\n",
    "    cfg = yaml.full_load(f.read())\n",
    "\n",
    "\n",
    "def cfg2obj(env, obj, cfg_list):\n",
    "    cfg_list = deepcopy(cfg_list)\n",
    "    out = {}\n",
    "    for cfg in cfg_list:\n",
    "        id_ = cfg.pop('id')\n",
    "        out[id_] = obj(env, **cfg)\n",
    "    return out\n",
    "\n",
    "\n",
    "def make_boms(env, cfg_list, material_objs, consumable_objs, product_objs):\n",
    "    cfg_list = deepcopy(cfg_list)\n",
    "    out = {}\n",
    "    for cfg in cfg_list:\n",
    "        id_ = cfg.pop('id')\n",
    "\n",
    "        # Materials\n",
    "        materials_ = {}\n",
    "        for material in cfg.pop('materials', {}):\n",
    "            obj = material_objs[material['id']]\n",
    "            # TODO: Consume time as well?\n",
    "            consumption = float(material['consumption']) / 60 / 60\n",
    "            materials_[obj] = {'consumption': consumption}\n",
    "\n",
    "        # Consumables\n",
    "        consumables_ = {}\n",
    "        for consumable in cfg.pop('consumables', {}):\n",
    "            obj = consumable_objs[consumable['id']]\n",
    "            consumption = float(consumable['consumption']) / 60 / 60\n",
    "            consumables_[obj] = {'consumption': consumption}\n",
    "\n",
    "        # Products (output)\n",
    "        products_ = {}\n",
    "        for product in cfg.pop('products', {}):\n",
    "            obj = product_objs[product['id']]\n",
    "            quantity = float(product['quantity'])\n",
    "            products_[obj] = {'quantity': quantity}\n",
    "\n",
    "        out[id_] = BOM(env, **cfg,\n",
    "                       materials=materials_,\n",
    "                       consumables=consumables_,\n",
    "                       products=products_)\n",
    "\n",
    "    return out\n",
    "\n",
    "\n",
    "def make_programs(env, cfg_list, boms):\n",
    "    cfg_list = deepcopy(cfg_list)\n",
    "    out = {}\n",
    "    for cfg in cfg_list:\n",
    "        id_ = cfg.pop('id')\n",
    "        bom_ = boms[cfg.pop('bom')]\n",
    "        out[id_] = Program(env, bom=bom_, **cfg)\n",
    "\n",
    "    return out\n",
    "\n",
    "\n",
    "def make_schedules(env, cfg_list, programs):\n",
    "    cfg_list = deepcopy(cfg_list)\n",
    "    out = {}\n",
    "    for cfg in cfg_list:\n",
    "        id_ = cfg.pop('id')\n",
    "        blocks_ = []\n",
    "        for block in cfg.pop('blocks', []):\n",
    "            # TODO: Support others than just cron\n",
    "            block_obj = CronBlock(\n",
    "                env,\n",
    "                start_expr=block['cron'],\n",
    "                duration_hours=block['duration-hours'],\n",
    "                program=programs[block['program']]\n",
    "            )\n",
    "            blocks_.append(block_obj)\n",
    "        out[id_] = OperatingSchedule(env, blocks=blocks_, **cfg)\n",
    "\n",
    "    return out\n",
    "\n",
    "\n",
    "def make_machines(env, cfg_list, programs, schedules):\n",
    "    cfg_list = deepcopy(cfg_list)\n",
    "    out = {}\n",
    "    for cfg in cfg_list:\n",
    "        d = {}\n",
    "        id_ = cfg.pop('id')\n",
    "        if 'name' in cfg:\n",
    "            d['name'] = cfg['name']\n",
    "        if 'programs' in cfg:\n",
    "            d['programs'] = [programs[program_id] for program_id in cfg['programs']]\n",
    "        if 'schedule' in cfg:\n",
    "            d['schedule'] = schedules[cfg['schedule']]\n",
    "        if 'default-program' in cfg:\n",
    "            d['default_program'] = programs[cfg['default-program']]\n",
    "\n",
    "        out[id_] = Machine(env, **d)\n",
    "\n",
    "    return out\n",
    "        \n",
    "\n",
    "\n",
    "materials = cfg2obj(env, Material, cfg['materials'])\n",
    "consumables = cfg2obj(env, Consumable, cfg['consumables'])\n",
    "products = cfg2obj(env, Product, cfg['products'])\n",
    "boms = make_boms(env, cfg['boms'], materials, consumables, products)\n",
    "programs = make_programs(env, cfg['programs'], boms)\n",
    "schedules = make_schedules(env, cfg['schedules'], programs)\n",
    "machines = make_machines(env, cfg['machines'], programs, schedules)\n",
    "operator = Operator(env).assign_machine(machines['machine1'])"
   ]
  },
  {
   "cell_type": "code",
   "execution_count": 3,
   "metadata": {},
   "outputs": [
    {
     "name": "stdout",
     "output_type": "stream",
     "text": [
      "01:36:03 - src.base - INFO    - 2022-12-02 01:36:03 - Cron(30 8 * * *, 2h, Program(My program 1)) - Cron scheduled for 2022-12-02 08:30:00 - 2022-12-02 10:29:59\n",
      "01:36:03 - src.base - INFO    - 2022-12-02 01:36:03 - Cron(00 12 * * *, 1.5h, Program(My program 2)) - Cron scheduled for 2022-12-02 12:00:00 - 2022-12-02 13:29:59\n",
      "01:36:03 - src.base - INFO    - 2022-12-02 01:36:03 - Operator - Chilling at home...\n",
      "01:36:03 - src.base - DEBUG   - 2022-12-02 01:36:03 - OperatingSchedule(Basic schedule) - Event - \"machine_assigned\"\n",
      "01:36:03 - src.base - INFO    - 2022-12-02 08:00:00 - Operator - Working...\n",
      "01:36:03 - src.base - DEBUG   - 2022-12-02 08:00:00 - Operator - Event - \"arrive_at_work\"\n",
      "01:36:03 - src.base - DEBUG   - 2022-12-02 08:00:00 - Operator - Waiting for issues\n",
      "01:36:03 - src.base - DEBUG   - 2022-12-02 08:00:01 - Machine(My machine) - Event - \"on_button_pressed\"\n",
      "01:36:03 - src.base - DEBUG   - 2022-12-02 08:00:02 - Machine(My machine) - Event - \"switching_on\"\n",
      "01:36:03 - src.base - DEBUG   - 2022-12-02 08:00:03 - Machine(My machine) - Event - \"switched_on\"\n",
      "01:36:03 - src.base - DEBUG   - 2022-12-02 08:00:03 - Machine(My machine) - Event - \"switched_on_from_off\"\n",
      "01:36:03 - src.base - DEBUG   - 2022-12-02 08:00:03 - Machine(My machine) - Released executor at \"switch_on\"\n",
      "01:36:03 - src.base - DEBUG   - 2022-12-02 08:30:00 - Cron(30 8 * * *, 2h, Program(My program 1)) - Event - \"start\"\n",
      "01:36:03 - src.base - INFO    - 2022-12-02 08:30:00 - Cron(30 8 * * *, 2h, Program(My program 1)) - Cron scheduled for 2022-12-03 08:30:00 - 2022-12-03 10:29:59\n",
      "01:36:03 - src.base - DEBUG   - 2022-12-02 08:30:00 - Cron(30 8 * * *, 2h, Program(My program 1)) - Event - \"started\"\n",
      "01:36:03 - src.base - DEBUG   - 2022-12-02 08:30:00 - OperatingSchedule(Basic schedule) - Event - \"block_started\"\n",
      "01:36:03 - src.base - DEBUG   - 2022-12-02 08:30:00 - OperatingSchedule(Basic schedule) - Schedule block Cron(30 8 * * *, 2h, Program(My program 1)) started\n",
      "01:36:03 - src.base - DEBUG   - 2022-12-02 08:30:01 - Machine(My machine) - Event - \"switching_program_automatically\"\n",
      "01:36:03 - src.base - WARNING - 2022-12-02 08:30:02 - Machine(My machine) - Skipping executor waiting at switching program\n",
      "01:36:03 - src.base - DEBUG   - 2022-12-02 08:30:02 - Machine(My machine) - Event - \"switching_program\"\n",
      "01:36:03 - src.base - DEBUG   - 2022-12-02 08:30:22 - Machine(My machine) - Event - \"switched_program\"\n",
      "01:36:03 - src.base - WARNING - 2022-12-02 08:30:23 - Machine(My machine) - Skipping executor waiting at switching production\n",
      "01:36:03 - src.base - DEBUG   - 2022-12-02 08:30:23 - Machine(My machine) - Event - \"switching_production\"\n",
      "01:36:03 - src.base - DEBUG   - 2022-12-02 08:30:24 - Machine(My machine) - Event - \"switched_production\"\n",
      "01:36:03 - src.base - DEBUG   - 2022-12-02 08:30:25 - Machine(My machine) - Event - \"production_started\"\n",
      "01:36:03 - src.base - DEBUG   - 2022-12-02 08:30:25 - Program(My program 1) - Event - \"program_started\"\n",
      "01:36:03 - src.base - DEBUG   - 2022-12-02 08:30:25 - Machine(My machine) - Event - \"switched_program_automatically\"\n",
      "01:36:03 - src.base - DEBUG   - 2022-12-02 08:45:25 - Program(My program 1) - Consuming 1.25 of Material(My material 1)\n",
      "01:36:03 - src.base - INFO    - 2022-12-02 08:45:25 - Material(My material 1) - Container level: 98.75\n",
      "01:36:03 - src.base - DEBUG   - 2022-12-02 08:45:25 - Program(My program 1) - Consuming 2.50 of Material(My material 2)\n",
      "01:36:03 - src.base - INFO    - 2022-12-02 08:45:25 - Material(My material 2) - Container level: 97.50\n",
      "01:36:03 - src.base - DEBUG   - 2022-12-02 08:45:25 - Program(My program 1) - Event - \"program_stopped\"\n",
      "01:36:03 - src.base - DEBUG   - 2022-12-02 08:45:25 - Machine(My machine) - Event - \"production_started\"\n",
      "01:36:03 - src.base - DEBUG   - 2022-12-02 08:45:25 - Program(My program 1) - Event - \"program_started\"\n",
      "01:36:03 - src.base - DEBUG   - 2022-12-02 09:00:25 - Program(My program 1) - Consuming 1.25 of Material(My material 1)\n",
      "01:36:03 - src.base - INFO    - 2022-12-02 09:00:25 - Material(My material 1) - Container level: 97.50\n",
      "01:36:03 - src.base - DEBUG   - 2022-12-02 09:00:25 - Program(My program 1) - Consuming 2.50 of Material(My material 2)\n",
      "01:36:03 - src.base - INFO    - 2022-12-02 09:00:25 - Material(My material 2) - Container level: 95.00\n",
      "01:36:03 - src.base - DEBUG   - 2022-12-02 09:00:25 - Program(My program 1) - Event - \"program_stopped\"\n",
      "01:36:03 - src.base - DEBUG   - 2022-12-02 09:00:25 - Machine(My machine) - Event - \"production_started\"\n",
      "01:36:03 - src.base - DEBUG   - 2022-12-02 09:00:25 - Program(My program 1) - Event - \"program_started\"\n",
      "01:36:03 - src.base - DEBUG   - 2022-12-02 09:15:25 - Program(My program 1) - Consuming 1.25 of Material(My material 1)\n",
      "01:36:03 - src.base - INFO    - 2022-12-02 09:15:25 - Material(My material 1) - Container level: 96.25\n",
      "01:36:03 - src.base - DEBUG   - 2022-12-02 09:15:25 - Program(My program 1) - Consuming 2.50 of Material(My material 2)\n",
      "01:36:03 - src.base - INFO    - 2022-12-02 09:15:25 - Material(My material 2) - Container level: 92.50\n",
      "01:36:03 - src.base - DEBUG   - 2022-12-02 09:15:25 - Program(My program 1) - Event - \"program_stopped\"\n",
      "01:36:03 - src.base - DEBUG   - 2022-12-02 09:15:25 - Machine(My machine) - Event - \"production_started\"\n",
      "01:36:03 - src.base - DEBUG   - 2022-12-02 09:15:25 - Program(My program 1) - Event - \"program_started\"\n",
      "01:36:03 - src.base - DEBUG   - 2022-12-02 09:30:25 - Program(My program 1) - Consuming 1.25 of Material(My material 1)\n",
      "01:36:03 - src.base - INFO    - 2022-12-02 09:30:25 - Material(My material 1) - Container level: 95.00\n",
      "01:36:03 - src.base - DEBUG   - 2022-12-02 09:30:25 - Program(My program 1) - Consuming 2.50 of Material(My material 2)\n",
      "01:36:03 - src.base - INFO    - 2022-12-02 09:30:25 - Material(My material 2) - Container level: 90.00\n",
      "01:36:03 - src.base - DEBUG   - 2022-12-02 09:30:25 - Program(My program 1) - Event - \"program_stopped\"\n",
      "01:36:03 - src.base - DEBUG   - 2022-12-02 09:30:25 - Machine(My machine) - Event - \"production_started\"\n",
      "01:36:03 - src.base - DEBUG   - 2022-12-02 09:30:25 - Program(My program 1) - Event - \"program_started\"\n",
      "01:36:03 - src.base - DEBUG   - 2022-12-02 09:45:25 - Program(My program 1) - Consuming 1.25 of Material(My material 1)\n",
      "01:36:03 - src.base - INFO    - 2022-12-02 09:45:25 - Material(My material 1) - Container level: 93.75\n",
      "01:36:03 - src.base - DEBUG   - 2022-12-02 09:45:25 - Program(My program 1) - Consuming 2.50 of Material(My material 2)\n",
      "01:36:03 - src.base - INFO    - 2022-12-02 09:45:25 - Material(My material 2) - Container level: 87.50\n",
      "01:36:03 - src.base - DEBUG   - 2022-12-02 09:45:25 - Program(My program 1) - Event - \"program_stopped\"\n",
      "01:36:03 - src.base - DEBUG   - 2022-12-02 09:45:25 - Machine(My machine) - Event - \"production_started\"\n",
      "01:36:03 - src.base - DEBUG   - 2022-12-02 09:45:25 - Program(My program 1) - Event - \"program_started\"\n",
      "01:36:03 - src.base - DEBUG   - 2022-12-02 10:00:25 - Program(My program 1) - Consuming 1.25 of Material(My material 1)\n",
      "01:36:03 - src.base - INFO    - 2022-12-02 10:00:25 - Material(My material 1) - Container level: 92.50\n",
      "01:36:03 - src.base - DEBUG   - 2022-12-02 10:00:25 - Program(My program 1) - Consuming 2.50 of Material(My material 2)\n",
      "01:36:03 - src.base - INFO    - 2022-12-02 10:00:25 - Material(My material 2) - Container level: 85.00\n",
      "01:36:03 - src.base - DEBUG   - 2022-12-02 10:00:25 - Program(My program 1) - Event - \"program_stopped\"\n",
      "01:36:03 - src.base - DEBUG   - 2022-12-02 10:00:25 - Machine(My machine) - Event - \"production_started\"\n",
      "01:36:03 - src.base - DEBUG   - 2022-12-02 10:00:25 - Program(My program 1) - Event - \"program_started\"\n",
      "01:36:03 - src.base - DEBUG   - 2022-12-02 10:15:25 - Program(My program 1) - Consuming 1.25 of Material(My material 1)\n",
      "01:36:03 - src.base - INFO    - 2022-12-02 10:15:25 - Material(My material 1) - Container level: 91.25\n",
      "01:36:03 - src.base - DEBUG   - 2022-12-02 10:15:25 - Program(My program 1) - Consuming 2.50 of Material(My material 2)\n",
      "01:36:03 - src.base - INFO    - 2022-12-02 10:15:25 - Material(My material 2) - Container level: 82.50\n",
      "01:36:03 - src.base - DEBUG   - 2022-12-02 10:15:25 - Program(My program 1) - Event - \"program_stopped\"\n",
      "01:36:03 - src.base - DEBUG   - 2022-12-02 10:15:25 - Machine(My machine) - Event - \"production_started\"\n",
      "01:36:03 - src.base - DEBUG   - 2022-12-02 10:15:25 - Program(My program 1) - Event - \"program_started\"\n",
      "01:36:03 - src.base - DEBUG   - 2022-12-02 10:29:59 - Cron(30 8 * * *, 2h, Program(My program 1)) - Event - \"stop\"\n",
      "01:36:03 - src.base - DEBUG   - 2022-12-02 10:29:59 - OperatingSchedule(Basic schedule) - Event - \"block_finished\"\n",
      "01:36:03 - src.base - DEBUG   - 2022-12-02 10:29:59 - OperatingSchedule(Basic schedule) - Switching to on\n",
      "01:36:03 - src.base - DEBUG   - 2022-12-02 10:29:59 - OperatingSchedule(Basic schedule) - Schedule block Cron(30 8 * * *, 2h, Program(My program 1)) finished\n",
      "01:36:03 - src.base - DEBUG   - 2022-12-02 10:30:00 - Machine(My machine) - Event - \"switching_on\"\n",
      "01:36:03 - src.base - DEBUG   - 2022-12-02 10:30:00 - Machine(My machine) - Waiting for production stopped at \"switch_on\"\n",
      "01:36:03 - src.base - WARNING - 2022-12-02 10:30:01 - Machine(My machine) - Skipping executor waiting at interrupt production\n",
      "01:36:03 - src.base - INFO    - 2022-12-02 10:30:01 - Machine(My machine) - Production interrupted: Interrupt(ManualSwitchOffCause(''))\n",
      "01:36:03 - src.base - DEBUG   - 2022-12-02 10:30:01 - Machine(My machine) - Event - \"production_interrupted\"\n",
      "01:36:03 - src.base - INFO    - 2022-12-02 10:30:01 - Program(My program 1) - Program interrupted: \n",
      "01:36:03 - src.base - DEBUG   - 2022-12-02 10:30:01 - Program(My program 1) - Event - \"program_interrupted\"\n",
      "01:36:03 - src.base - DEBUG   - 2022-12-02 10:30:01 - Program(My program 1) - Waiting for current batch to finish in 24\n",
      "01:36:03 - src.base - DEBUG   - 2022-12-02 10:30:25 - Program(My program 1) - Consuming 1.25 of Material(My material 1)\n",
      "01:36:03 - src.base - INFO    - 2022-12-02 10:30:25 - Material(My material 1) - Container level: 90.00\n",
      "01:36:03 - src.base - DEBUG   - 2022-12-02 10:30:25 - Program(My program 1) - Consuming 2.50 of Material(My material 2)\n",
      "01:36:03 - src.base - INFO    - 2022-12-02 10:30:25 - Material(My material 2) - Container level: 80.00\n",
      "01:36:03 - src.base - DEBUG   - 2022-12-02 10:30:25 - Program(My program 1) - Event - \"program_stopped\"\n",
      "01:36:03 - src.base - DEBUG   - 2022-12-02 10:30:25 - Machine(My machine) - Event - \"production_stopped\"\n",
      "01:36:03 - src.base - DEBUG   - 2022-12-02 10:30:26 - Machine(My machine) - Event - \"switched_on\"\n",
      "01:36:03 - src.base - DEBUG   - 2022-12-02 10:30:26 - Machine(My machine) - Released executor at \"switch_on\"\n",
      "01:36:03 - src.base - DEBUG   - 2022-12-02 11:30:00 - Operator - Lunch or home time\n",
      "01:36:03 - src.base - DEBUG   - 2022-12-02 11:30:00 - Operator - Waiting till can leave for lunch\n",
      "01:36:03 - src.base - DEBUG   - 2022-12-02 11:30:01 - Machine(My machine) - Event - \"off_button_pressed\"\n",
      "01:36:03 - src.base - DEBUG   - 2022-12-02 11:30:02 - Machine(My machine) - Event - \"switching_off\"\n",
      "01:36:03 - src.base - DEBUG   - 2022-12-02 11:30:03 - Machine(My machine) - Event - \"switched_off\"\n",
      "01:36:03 - src.base - INFO    - 2022-12-02 11:30:03 - Operator - Having lunch...\n",
      "01:36:03 - src.base - DEBUG   - 2022-12-02 12:00:00 - Cron(00 12 * * *, 1.5h, Program(My program 2)) - Event - \"start\"\n",
      "01:36:03 - src.base - INFO    - 2022-12-02 12:00:00 - Cron(00 12 * * *, 1.5h, Program(My program 2)) - Cron scheduled for 2022-12-03 12:00:00 - 2022-12-03 13:29:59\n",
      "01:36:03 - src.base - DEBUG   - 2022-12-02 12:00:00 - Cron(00 12 * * *, 1.5h, Program(My program 2)) - Event - \"started\"\n",
      "01:36:03 - src.base - DEBUG   - 2022-12-02 12:00:00 - OperatingSchedule(Basic schedule) - Event - \"block_started\"\n",
      "01:36:03 - src.base - DEBUG   - 2022-12-02 12:00:00 - OperatingSchedule(Basic schedule) - Schedule block Cron(00 12 * * *, 1.5h, Program(My program 2)) started\n",
      "01:36:03 - src.base - INFO    - 2022-12-02 12:00:03 - Operator - Working...\n",
      "01:36:03 - src.base - DEBUG   - 2022-12-02 12:00:03 - Operator - Event - \"arrive_at_work\"\n",
      "01:36:03 - src.base - DEBUG   - 2022-12-02 12:00:04 - Machine(My machine) - Event - \"on_button_pressed\"\n",
      "01:36:03 - src.base - DEBUG   - 2022-12-02 12:00:05 - Machine(My machine) - Event - \"switching_on\"\n",
      "01:36:03 - src.base - DEBUG   - 2022-12-02 12:00:06 - Machine(My machine) - Event - \"switched_on\"\n",
      "01:36:03 - src.base - DEBUG   - 2022-12-02 12:00:06 - Machine(My machine) - Event - \"switched_on_from_off\"\n",
      "01:36:03 - src.base - DEBUG   - 2022-12-02 12:00:06 - Machine(My machine) - Released executor at \"switch_on\"\n",
      "01:36:03 - src.base - DEBUG   - 2022-12-02 12:00:06 - OperatingSchedule(Basic schedule) - Setting program \"Program(My program 2)\" at machine start\n",
      "01:36:03 - src.base - DEBUG   - 2022-12-02 12:00:07 - Machine(My machine) - Event - \"switching_program_automatically\"\n",
      "01:36:03 - src.base - WARNING - 2022-12-02 12:00:08 - Machine(My machine) - Skipping executor waiting at switching program\n",
      "01:36:03 - src.base - DEBUG   - 2022-12-02 12:00:08 - Machine(My machine) - Event - \"switching_program\"\n",
      "01:36:03 - src.base - DEBUG   - 2022-12-02 12:00:28 - Machine(My machine) - Event - \"switched_program\"\n",
      "01:36:03 - src.base - WARNING - 2022-12-02 12:00:29 - Machine(My machine) - Skipping executor waiting at switching production\n",
      "01:36:03 - src.base - DEBUG   - 2022-12-02 12:00:29 - Machine(My machine) - Event - \"switching_production\"\n",
      "01:36:03 - src.base - DEBUG   - 2022-12-02 12:00:30 - Machine(My machine) - Event - \"switched_production\"\n",
      "01:36:03 - src.base - DEBUG   - 2022-12-02 12:00:31 - Machine(My machine) - Event - \"production_started\"\n",
      "01:36:03 - src.base - DEBUG   - 2022-12-02 12:00:31 - Program(My program 2) - Event - \"program_started\"\n",
      "01:36:03 - src.base - DEBUG   - 2022-12-02 12:00:31 - Machine(My machine) - Event - \"switched_program_automatically\"\n",
      "01:36:03 - src.base - DEBUG   - 2022-12-02 12:15:31 - Program(My program 2) - Consuming 1.25 of Material(My material 1)\n",
      "01:36:03 - src.base - INFO    - 2022-12-02 12:15:31 - Material(My material 1) - Container level: 88.75\n",
      "01:36:03 - src.base - DEBUG   - 2022-12-02 12:15:31 - Program(My program 2) - Consuming 2.50 of Material(My material 2)\n",
      "01:36:03 - src.base - INFO    - 2022-12-02 12:15:31 - Material(My material 2) - Container level: 77.50\n",
      "01:36:03 - src.base - DEBUG   - 2022-12-02 12:15:31 - Program(My program 2) - Event - \"program_stopped\"\n",
      "01:36:03 - src.base - DEBUG   - 2022-12-02 12:15:31 - Machine(My machine) - Event - \"production_started\"\n",
      "01:36:03 - src.base - DEBUG   - 2022-12-02 12:15:31 - Program(My program 2) - Event - \"program_started\"\n",
      "01:36:03 - src.base - DEBUG   - 2022-12-02 12:30:31 - Program(My program 2) - Consuming 1.25 of Material(My material 1)\n",
      "01:36:03 - src.base - INFO    - 2022-12-02 12:30:31 - Material(My material 1) - Container level: 87.50\n",
      "01:36:03 - src.base - DEBUG   - 2022-12-02 12:30:31 - Program(My program 2) - Consuming 2.50 of Material(My material 2)\n",
      "01:36:03 - src.base - INFO    - 2022-12-02 12:30:31 - Material(My material 2) - Container level: 75.00\n",
      "01:36:03 - src.base - DEBUG   - 2022-12-02 12:30:31 - Program(My program 2) - Event - \"program_stopped\"\n",
      "01:36:03 - src.base - DEBUG   - 2022-12-02 12:30:31 - Machine(My machine) - Event - \"production_started\"\n",
      "01:36:03 - src.base - DEBUG   - 2022-12-02 12:30:31 - Program(My program 2) - Event - \"program_started\"\n",
      "01:36:03 - src.base - DEBUG   - 2022-12-02 12:45:31 - Program(My program 2) - Consuming 1.25 of Material(My material 1)\n",
      "01:36:03 - src.base - INFO    - 2022-12-02 12:45:31 - Material(My material 1) - Container level: 86.25\n",
      "01:36:03 - src.base - DEBUG   - 2022-12-02 12:45:31 - Program(My program 2) - Consuming 2.50 of Material(My material 2)\n",
      "01:36:03 - src.base - INFO    - 2022-12-02 12:45:31 - Material(My material 2) - Container level: 72.50\n",
      "01:36:03 - src.base - DEBUG   - 2022-12-02 12:45:31 - Program(My program 2) - Event - \"program_stopped\"\n",
      "01:36:03 - src.base - DEBUG   - 2022-12-02 12:45:31 - Machine(My machine) - Event - \"production_started\"\n",
      "01:36:03 - src.base - DEBUG   - 2022-12-02 12:45:31 - Program(My program 2) - Event - \"program_started\"\n",
      "01:36:03 - src.base - DEBUG   - 2022-12-02 13:00:31 - Program(My program 2) - Consuming 1.25 of Material(My material 1)\n",
      "01:36:03 - src.base - INFO    - 2022-12-02 13:00:31 - Material(My material 1) - Container level: 85.00\n",
      "01:36:03 - src.base - DEBUG   - 2022-12-02 13:00:31 - Program(My program 2) - Consuming 2.50 of Material(My material 2)\n",
      "01:36:03 - src.base - INFO    - 2022-12-02 13:00:31 - Material(My material 2) - Container level: 70.00\n",
      "01:36:03 - src.base - DEBUG   - 2022-12-02 13:00:31 - Program(My program 2) - Event - \"program_stopped\"\n",
      "01:36:03 - src.base - DEBUG   - 2022-12-02 13:00:31 - Machine(My machine) - Event - \"production_started\"\n",
      "01:36:03 - src.base - DEBUG   - 2022-12-02 13:00:31 - Program(My program 2) - Event - \"program_started\"\n",
      "01:36:03 - src.base - DEBUG   - 2022-12-02 13:15:31 - Program(My program 2) - Consuming 1.25 of Material(My material 1)\n",
      "01:36:03 - src.base - INFO    - 2022-12-02 13:15:31 - Material(My material 1) - Container level: 83.75\n",
      "01:36:03 - src.base - DEBUG   - 2022-12-02 13:15:31 - Program(My program 2) - Consuming 2.50 of Material(My material 2)\n",
      "01:36:03 - src.base - INFO    - 2022-12-02 13:15:31 - Material(My material 2) - Container level: 67.50\n",
      "01:36:03 - src.base - DEBUG   - 2022-12-02 13:15:31 - Program(My program 2) - Event - \"program_stopped\"\n",
      "01:36:03 - src.base - DEBUG   - 2022-12-02 13:15:31 - Machine(My machine) - Event - \"production_started\"\n",
      "01:36:03 - src.base - DEBUG   - 2022-12-02 13:15:31 - Program(My program 2) - Event - \"program_started\"\n",
      "01:36:03 - src.base - DEBUG   - 2022-12-02 13:29:59 - Cron(00 12 * * *, 1.5h, Program(My program 2)) - Event - \"stop\"\n",
      "01:36:03 - src.base - DEBUG   - 2022-12-02 13:29:59 - OperatingSchedule(Basic schedule) - Event - \"block_finished\"\n",
      "01:36:03 - src.base - DEBUG   - 2022-12-02 13:29:59 - OperatingSchedule(Basic schedule) - Switching to on\n",
      "01:36:03 - src.base - DEBUG   - 2022-12-02 13:29:59 - OperatingSchedule(Basic schedule) - Schedule block Cron(00 12 * * *, 1.5h, Program(My program 2)) finished\n",
      "01:36:03 - src.base - DEBUG   - 2022-12-02 13:30:00 - Machine(My machine) - Event - \"switching_on\"\n",
      "01:36:03 - src.base - DEBUG   - 2022-12-02 13:30:00 - Machine(My machine) - Waiting for production stopped at \"switch_on\"\n",
      "01:36:03 - src.base - WARNING - 2022-12-02 13:30:01 - Machine(My machine) - Skipping executor waiting at interrupt production\n",
      "01:36:03 - src.base - INFO    - 2022-12-02 13:30:01 - Machine(My machine) - Production interrupted: Interrupt(ManualSwitchOffCause(''))\n",
      "01:36:03 - src.base - DEBUG   - 2022-12-02 13:30:01 - Machine(My machine) - Event - \"production_interrupted\"\n",
      "01:36:03 - src.base - INFO    - 2022-12-02 13:30:01 - Program(My program 2) - Program interrupted: \n",
      "01:36:03 - src.base - DEBUG   - 2022-12-02 13:30:01 - Program(My program 2) - Event - \"program_interrupted\"\n",
      "01:36:03 - src.base - DEBUG   - 2022-12-02 13:30:01 - Program(My program 2) - Waiting for current batch to finish in 30\n",
      "01:36:03 - src.base - DEBUG   - 2022-12-02 13:30:31 - Program(My program 2) - Consuming 1.25 of Material(My material 1)\n",
      "01:36:03 - src.base - INFO    - 2022-12-02 13:30:31 - Material(My material 1) - Container level: 82.50\n",
      "01:36:03 - src.base - DEBUG   - 2022-12-02 13:30:31 - Program(My program 2) - Consuming 2.50 of Material(My material 2)\n",
      "01:36:03 - src.base - INFO    - 2022-12-02 13:30:31 - Material(My material 2) - Container level: 65.00\n",
      "01:36:03 - src.base - DEBUG   - 2022-12-02 13:30:31 - Program(My program 2) - Event - \"program_stopped\"\n",
      "01:36:03 - src.base - DEBUG   - 2022-12-02 13:30:31 - Machine(My machine) - Event - \"production_stopped\"\n",
      "01:36:03 - src.base - DEBUG   - 2022-12-02 13:30:32 - Machine(My machine) - Event - \"switched_on\"\n",
      "01:36:03 - src.base - DEBUG   - 2022-12-02 13:30:32 - Machine(My machine) - Released executor at \"switch_on\"\n",
      "01:36:03 - src.base - DEBUG   - 2022-12-02 17:00:00 - Operator - Lunch or home time\n",
      "01:36:03 - src.base - DEBUG   - 2022-12-02 17:00:01 - Machine(My machine) - Event - \"off_button_pressed\"\n",
      "01:36:03 - src.base - DEBUG   - 2022-12-02 17:00:02 - Machine(My machine) - Event - \"switching_off\"\n",
      "01:36:03 - src.base - DEBUG   - 2022-12-02 17:00:03 - Machine(My machine) - Event - \"switched_off\"\n",
      "01:36:03 - src.base - INFO    - 2022-12-02 17:20:03 - Operator - Chilling at home...\n"
     ]
    }
   ],
   "source": [
    "env.run(until=start.timestamp() + 1 * 24 * 60 * 60)"
   ]
  },
  {
   "cell_type": "code",
   "execution_count": 4,
   "metadata": {},
   "outputs": [
    {
     "data": {
      "application/vnd.plotly.v1+json": {
       "config": {
        "plotlyServerURL": "https://plot.ly"
       },
       "data": [
        {
         "alignmentgroup": "True",
         "base": [
          "2022-12-02T01:36:03.369994+02:00",
          "2022-12-02T01:36:03.369994+02:00",
          "2022-12-02T08:00:00+02:00",
          "2022-12-02T11:30:03+02:00",
          "2022-12-02T12:00:03+02:00",
          "2022-12-02T17:20:03+02:00"
         ],
         "hovertemplate": "obj=Operator<br>name=Operator - state<br>ds=%{base}<br>end_ts=%{x}<br>value=%{y}<extra></extra>",
         "legendgroup": "Operator",
         "marker": {
          "color": "#636efa",
          "pattern": {
           "shape": ""
          }
         },
         "name": "Operator",
         "offsetgroup": "Operator",
         "orientation": "h",
         "showlegend": true,
         "textposition": "auto",
         "type": "bar",
         "x": [
          0,
          23036630,
          12603000,
          1800000,
          19200000,
          29760369
         ],
         "xaxis": "x6",
         "y": [
          "home",
          "home",
          "work",
          "lunch",
          "work",
          "home"
         ],
         "yaxis": "y6"
        },
        {
         "alignmentgroup": "True",
         "base": [
          "2022-12-02T01:36:03.369994+02:00"
         ],
         "hovertemplate": "obj=Operator<br>name=Operator - issue_ongoing<br>ds=%{base}<br>end_ts=%{x}<br>value=%{y}<extra></extra>",
         "legendgroup": "Operator",
         "marker": {
          "color": "#636efa",
          "pattern": {
           "shape": ""
          }
         },
         "name": "Operator",
         "offsetgroup": "Operator",
         "orientation": "h",
         "showlegend": false,
         "textposition": "auto",
         "type": "bar",
         "x": [
          86400000
         ],
         "xaxis": "x5",
         "y": [
          "False"
         ],
         "yaxis": "y5"
        },
        {
         "alignmentgroup": "True",
         "base": [
          "2022-12-02T01:36:03.369994+02:00",
          "2022-12-02T08:00:03+02:00",
          "2022-12-02T08:30:24+02:00",
          "2022-12-02T10:30:26+02:00",
          "2022-12-02T11:30:03+02:00",
          "2022-12-02T12:00:06+02:00",
          "2022-12-02T12:00:30+02:00",
          "2022-12-02T13:30:32+02:00",
          "2022-12-02T17:00:03+02:00"
         ],
         "hovertemplate": "obj=Machine(My machine)<br>name=Machine(My machine) - state<br>ds=%{base}<br>end_ts=%{x}<br>value=%{y}<extra></extra>",
         "legendgroup": "Machine(My machine)",
         "marker": {
          "color": "#EF553B",
          "pattern": {
           "shape": ""
          }
         },
         "name": "Machine(My machine)",
         "offsetgroup": "Machine(My machine)",
         "orientation": "h",
         "showlegend": true,
         "textposition": "auto",
         "type": "bar",
         "x": [
          23039630,
          1821000,
          7202000,
          3577000,
          1803000,
          24000,
          5402000,
          12571000,
          30960369
         ],
         "xaxis": "x4",
         "y": [
          "off",
          "on",
          "production",
          "on",
          "off",
          "on",
          "production",
          "on",
          "off"
         ],
         "yaxis": "y4"
        },
        {
         "alignmentgroup": "True",
         "base": [
          "2022-12-02T01:36:03.369994+02:00",
          "2022-12-02T08:30:22+02:00",
          "2022-12-02T12:00:28+02:00"
         ],
         "hovertemplate": "obj=Machine(My machine)<br>name=Machine(My machine) - program<br>ds=%{base}<br>end_ts=%{x}<br>value=%{y}<extra></extra>",
         "legendgroup": "Machine(My machine)",
         "marker": {
          "color": "#EF553B",
          "pattern": {
           "shape": ""
          }
         },
         "name": "Machine(My machine)",
         "offsetgroup": "Machine(My machine)",
         "orientation": "h",
         "showlegend": false,
         "textposition": "auto",
         "type": "bar",
         "x": [
          24858630,
          12606000,
          48935369
         ],
         "xaxis": "x3",
         "y": [
          "Program(My program 1)",
          "Program(My program 1)",
          "Program(My program 2)"
         ],
         "yaxis": "y3"
        },
        {
         "alignmentgroup": "True",
         "base": [
          "2022-12-02T01:36:03.369994+02:00",
          "2022-12-02T10:30:01+02:00",
          "2022-12-02T10:30:25+02:00",
          "2022-12-02T13:30:01+02:00",
          "2022-12-02T13:30:31+02:00"
         ],
         "hovertemplate": "obj=Machine(My machine)<br>name=Machine(My machine) - production_interruption_ongoing<br>ds=%{base}<br>end_ts=%{x}<br>value=%{y}<extra></extra>",
         "legendgroup": "Machine(My machine)",
         "marker": {
          "color": "#EF553B",
          "pattern": {
           "shape": ""
          }
         },
         "name": "Machine(My machine)",
         "offsetgroup": "Machine(My machine)",
         "orientation": "h",
         "showlegend": false,
         "textposition": "auto",
         "type": "bar",
         "x": [
          32037630,
          24000,
          10776000,
          30000,
          43532369
         ],
         "xaxis": "x2",
         "y": [
          "False",
          "True",
          "False",
          "True",
          "False"
         ],
         "yaxis": "y2"
        },
        {
         "alignmentgroup": "True",
         "base": [
          "2022-12-02T01:36:03.369994+02:00",
          "2022-12-02T08:30:00+02:00",
          "2022-12-02T10:29:59+02:00",
          "2022-12-02T12:00:00+02:00",
          "2022-12-02T13:29:59+02:00"
         ],
         "hovertemplate": "obj=OperatingSchedule(Basic schedule)<br>name=OperatingSchedule(Basic schedule) - active_block<br>ds=%{base}<br>end_ts=%{x}<br>value=%{y}<extra></extra>",
         "legendgroup": "OperatingSchedule(Basic schedule)",
         "marker": {
          "color": "#00cc96",
          "pattern": {
           "shape": ""
          }
         },
         "name": "OperatingSchedule(Basic schedule)",
         "offsetgroup": "OperatingSchedule(Basic schedule)",
         "orientation": "h",
         "showlegend": true,
         "textposition": "auto",
         "type": "bar",
         "x": [
          24836630,
          7199000,
          5401000,
          5399000,
          43564369
         ],
         "xaxis": "x",
         "y": [
          "None",
          "Cron(30 8 * * *, 2h, Program(My program 1))",
          "None",
          "Cron(00 12 * * *, 1.5h, Program(My program 2))",
          "None"
         ],
         "yaxis": "y"
        }
       ],
       "layout": {
        "annotations": [
         {
          "font": {},
          "showarrow": false,
          "text": "active_block",
          "textangle": 90,
          "x": 0.98,
          "xanchor": "left",
          "xref": "paper",
          "y": 0.07083333333333333,
          "yanchor": "middle",
          "yref": "paper"
         },
         {
          "font": {},
          "showarrow": false,
          "text": "production_interruption_ongoing",
          "textangle": 90,
          "x": 0.98,
          "xanchor": "left",
          "xref": "paper",
          "y": 0.2425,
          "yanchor": "middle",
          "yref": "paper"
         },
         {
          "font": {},
          "showarrow": false,
          "text": "program",
          "textangle": 90,
          "x": 0.98,
          "xanchor": "left",
          "xref": "paper",
          "y": 0.4141666666666667,
          "yanchor": "middle",
          "yref": "paper"
         },
         {
          "font": {},
          "showarrow": false,
          "text": "state",
          "textangle": 90,
          "x": 0.98,
          "xanchor": "left",
          "xref": "paper",
          "y": 0.5858333333333334,
          "yanchor": "middle",
          "yref": "paper"
         },
         {
          "font": {},
          "showarrow": false,
          "text": "issue_ongoing",
          "textangle": 90,
          "x": 0.98,
          "xanchor": "left",
          "xref": "paper",
          "y": 0.7575000000000001,
          "yanchor": "middle",
          "yref": "paper"
         },
         {
          "font": {},
          "showarrow": false,
          "text": "state",
          "textangle": 90,
          "x": 0.98,
          "xanchor": "left",
          "xref": "paper",
          "y": 0.9291666666666667,
          "yanchor": "middle",
          "yref": "paper"
         }
        ],
        "barmode": "overlay",
        "height": 1000,
        "legend": {
         "title": {
          "text": "obj"
         },
         "tracegroupgap": 0
        },
        "template": {
         "data": {
          "bar": [
           {
            "error_x": {
             "color": "#2a3f5f"
            },
            "error_y": {
             "color": "#2a3f5f"
            },
            "marker": {
             "line": {
              "color": "#E5ECF6",
              "width": 0.5
             },
             "pattern": {
              "fillmode": "overlay",
              "size": 10,
              "solidity": 0.2
             }
            },
            "type": "bar"
           }
          ],
          "barpolar": [
           {
            "marker": {
             "line": {
              "color": "#E5ECF6",
              "width": 0.5
             },
             "pattern": {
              "fillmode": "overlay",
              "size": 10,
              "solidity": 0.2
             }
            },
            "type": "barpolar"
           }
          ],
          "carpet": [
           {
            "aaxis": {
             "endlinecolor": "#2a3f5f",
             "gridcolor": "white",
             "linecolor": "white",
             "minorgridcolor": "white",
             "startlinecolor": "#2a3f5f"
            },
            "baxis": {
             "endlinecolor": "#2a3f5f",
             "gridcolor": "white",
             "linecolor": "white",
             "minorgridcolor": "white",
             "startlinecolor": "#2a3f5f"
            },
            "type": "carpet"
           }
          ],
          "choropleth": [
           {
            "colorbar": {
             "outlinewidth": 0,
             "ticks": ""
            },
            "type": "choropleth"
           }
          ],
          "contour": [
           {
            "colorbar": {
             "outlinewidth": 0,
             "ticks": ""
            },
            "colorscale": [
             [
              0,
              "#0d0887"
             ],
             [
              0.1111111111111111,
              "#46039f"
             ],
             [
              0.2222222222222222,
              "#7201a8"
             ],
             [
              0.3333333333333333,
              "#9c179e"
             ],
             [
              0.4444444444444444,
              "#bd3786"
             ],
             [
              0.5555555555555556,
              "#d8576b"
             ],
             [
              0.6666666666666666,
              "#ed7953"
             ],
             [
              0.7777777777777778,
              "#fb9f3a"
             ],
             [
              0.8888888888888888,
              "#fdca26"
             ],
             [
              1,
              "#f0f921"
             ]
            ],
            "type": "contour"
           }
          ],
          "contourcarpet": [
           {
            "colorbar": {
             "outlinewidth": 0,
             "ticks": ""
            },
            "type": "contourcarpet"
           }
          ],
          "heatmap": [
           {
            "colorbar": {
             "outlinewidth": 0,
             "ticks": ""
            },
            "colorscale": [
             [
              0,
              "#0d0887"
             ],
             [
              0.1111111111111111,
              "#46039f"
             ],
             [
              0.2222222222222222,
              "#7201a8"
             ],
             [
              0.3333333333333333,
              "#9c179e"
             ],
             [
              0.4444444444444444,
              "#bd3786"
             ],
             [
              0.5555555555555556,
              "#d8576b"
             ],
             [
              0.6666666666666666,
              "#ed7953"
             ],
             [
              0.7777777777777778,
              "#fb9f3a"
             ],
             [
              0.8888888888888888,
              "#fdca26"
             ],
             [
              1,
              "#f0f921"
             ]
            ],
            "type": "heatmap"
           }
          ],
          "heatmapgl": [
           {
            "colorbar": {
             "outlinewidth": 0,
             "ticks": ""
            },
            "colorscale": [
             [
              0,
              "#0d0887"
             ],
             [
              0.1111111111111111,
              "#46039f"
             ],
             [
              0.2222222222222222,
              "#7201a8"
             ],
             [
              0.3333333333333333,
              "#9c179e"
             ],
             [
              0.4444444444444444,
              "#bd3786"
             ],
             [
              0.5555555555555556,
              "#d8576b"
             ],
             [
              0.6666666666666666,
              "#ed7953"
             ],
             [
              0.7777777777777778,
              "#fb9f3a"
             ],
             [
              0.8888888888888888,
              "#fdca26"
             ],
             [
              1,
              "#f0f921"
             ]
            ],
            "type": "heatmapgl"
           }
          ],
          "histogram": [
           {
            "marker": {
             "pattern": {
              "fillmode": "overlay",
              "size": 10,
              "solidity": 0.2
             }
            },
            "type": "histogram"
           }
          ],
          "histogram2d": [
           {
            "colorbar": {
             "outlinewidth": 0,
             "ticks": ""
            },
            "colorscale": [
             [
              0,
              "#0d0887"
             ],
             [
              0.1111111111111111,
              "#46039f"
             ],
             [
              0.2222222222222222,
              "#7201a8"
             ],
             [
              0.3333333333333333,
              "#9c179e"
             ],
             [
              0.4444444444444444,
              "#bd3786"
             ],
             [
              0.5555555555555556,
              "#d8576b"
             ],
             [
              0.6666666666666666,
              "#ed7953"
             ],
             [
              0.7777777777777778,
              "#fb9f3a"
             ],
             [
              0.8888888888888888,
              "#fdca26"
             ],
             [
              1,
              "#f0f921"
             ]
            ],
            "type": "histogram2d"
           }
          ],
          "histogram2dcontour": [
           {
            "colorbar": {
             "outlinewidth": 0,
             "ticks": ""
            },
            "colorscale": [
             [
              0,
              "#0d0887"
             ],
             [
              0.1111111111111111,
              "#46039f"
             ],
             [
              0.2222222222222222,
              "#7201a8"
             ],
             [
              0.3333333333333333,
              "#9c179e"
             ],
             [
              0.4444444444444444,
              "#bd3786"
             ],
             [
              0.5555555555555556,
              "#d8576b"
             ],
             [
              0.6666666666666666,
              "#ed7953"
             ],
             [
              0.7777777777777778,
              "#fb9f3a"
             ],
             [
              0.8888888888888888,
              "#fdca26"
             ],
             [
              1,
              "#f0f921"
             ]
            ],
            "type": "histogram2dcontour"
           }
          ],
          "mesh3d": [
           {
            "colorbar": {
             "outlinewidth": 0,
             "ticks": ""
            },
            "type": "mesh3d"
           }
          ],
          "parcoords": [
           {
            "line": {
             "colorbar": {
              "outlinewidth": 0,
              "ticks": ""
             }
            },
            "type": "parcoords"
           }
          ],
          "pie": [
           {
            "automargin": true,
            "type": "pie"
           }
          ],
          "scatter": [
           {
            "fillpattern": {
             "fillmode": "overlay",
             "size": 10,
             "solidity": 0.2
            },
            "type": "scatter"
           }
          ],
          "scatter3d": [
           {
            "line": {
             "colorbar": {
              "outlinewidth": 0,
              "ticks": ""
             }
            },
            "marker": {
             "colorbar": {
              "outlinewidth": 0,
              "ticks": ""
             }
            },
            "type": "scatter3d"
           }
          ],
          "scattercarpet": [
           {
            "marker": {
             "colorbar": {
              "outlinewidth": 0,
              "ticks": ""
             }
            },
            "type": "scattercarpet"
           }
          ],
          "scattergeo": [
           {
            "marker": {
             "colorbar": {
              "outlinewidth": 0,
              "ticks": ""
             }
            },
            "type": "scattergeo"
           }
          ],
          "scattergl": [
           {
            "marker": {
             "colorbar": {
              "outlinewidth": 0,
              "ticks": ""
             }
            },
            "type": "scattergl"
           }
          ],
          "scattermapbox": [
           {
            "marker": {
             "colorbar": {
              "outlinewidth": 0,
              "ticks": ""
             }
            },
            "type": "scattermapbox"
           }
          ],
          "scatterpolar": [
           {
            "marker": {
             "colorbar": {
              "outlinewidth": 0,
              "ticks": ""
             }
            },
            "type": "scatterpolar"
           }
          ],
          "scatterpolargl": [
           {
            "marker": {
             "colorbar": {
              "outlinewidth": 0,
              "ticks": ""
             }
            },
            "type": "scatterpolargl"
           }
          ],
          "scatterternary": [
           {
            "marker": {
             "colorbar": {
              "outlinewidth": 0,
              "ticks": ""
             }
            },
            "type": "scatterternary"
           }
          ],
          "surface": [
           {
            "colorbar": {
             "outlinewidth": 0,
             "ticks": ""
            },
            "colorscale": [
             [
              0,
              "#0d0887"
             ],
             [
              0.1111111111111111,
              "#46039f"
             ],
             [
              0.2222222222222222,
              "#7201a8"
             ],
             [
              0.3333333333333333,
              "#9c179e"
             ],
             [
              0.4444444444444444,
              "#bd3786"
             ],
             [
              0.5555555555555556,
              "#d8576b"
             ],
             [
              0.6666666666666666,
              "#ed7953"
             ],
             [
              0.7777777777777778,
              "#fb9f3a"
             ],
             [
              0.8888888888888888,
              "#fdca26"
             ],
             [
              1,
              "#f0f921"
             ]
            ],
            "type": "surface"
           }
          ],
          "table": [
           {
            "cells": {
             "fill": {
              "color": "#EBF0F8"
             },
             "line": {
              "color": "white"
             }
            },
            "header": {
             "fill": {
              "color": "#C8D4E3"
             },
             "line": {
              "color": "white"
             }
            },
            "type": "table"
           }
          ]
         },
         "layout": {
          "annotationdefaults": {
           "arrowcolor": "#2a3f5f",
           "arrowhead": 0,
           "arrowwidth": 1
          },
          "autotypenumbers": "strict",
          "coloraxis": {
           "colorbar": {
            "outlinewidth": 0,
            "ticks": ""
           }
          },
          "colorscale": {
           "diverging": [
            [
             0,
             "#8e0152"
            ],
            [
             0.1,
             "#c51b7d"
            ],
            [
             0.2,
             "#de77ae"
            ],
            [
             0.3,
             "#f1b6da"
            ],
            [
             0.4,
             "#fde0ef"
            ],
            [
             0.5,
             "#f7f7f7"
            ],
            [
             0.6,
             "#e6f5d0"
            ],
            [
             0.7,
             "#b8e186"
            ],
            [
             0.8,
             "#7fbc41"
            ],
            [
             0.9,
             "#4d9221"
            ],
            [
             1,
             "#276419"
            ]
           ],
           "sequential": [
            [
             0,
             "#0d0887"
            ],
            [
             0.1111111111111111,
             "#46039f"
            ],
            [
             0.2222222222222222,
             "#7201a8"
            ],
            [
             0.3333333333333333,
             "#9c179e"
            ],
            [
             0.4444444444444444,
             "#bd3786"
            ],
            [
             0.5555555555555556,
             "#d8576b"
            ],
            [
             0.6666666666666666,
             "#ed7953"
            ],
            [
             0.7777777777777778,
             "#fb9f3a"
            ],
            [
             0.8888888888888888,
             "#fdca26"
            ],
            [
             1,
             "#f0f921"
            ]
           ],
           "sequentialminus": [
            [
             0,
             "#0d0887"
            ],
            [
             0.1111111111111111,
             "#46039f"
            ],
            [
             0.2222222222222222,
             "#7201a8"
            ],
            [
             0.3333333333333333,
             "#9c179e"
            ],
            [
             0.4444444444444444,
             "#bd3786"
            ],
            [
             0.5555555555555556,
             "#d8576b"
            ],
            [
             0.6666666666666666,
             "#ed7953"
            ],
            [
             0.7777777777777778,
             "#fb9f3a"
            ],
            [
             0.8888888888888888,
             "#fdca26"
            ],
            [
             1,
             "#f0f921"
            ]
           ]
          },
          "colorway": [
           "#636efa",
           "#EF553B",
           "#00cc96",
           "#ab63fa",
           "#FFA15A",
           "#19d3f3",
           "#FF6692",
           "#B6E880",
           "#FF97FF",
           "#FECB52"
          ],
          "font": {
           "color": "#2a3f5f"
          },
          "geo": {
           "bgcolor": "white",
           "lakecolor": "white",
           "landcolor": "#E5ECF6",
           "showlakes": true,
           "showland": true,
           "subunitcolor": "white"
          },
          "hoverlabel": {
           "align": "left"
          },
          "hovermode": "closest",
          "mapbox": {
           "style": "light"
          },
          "paper_bgcolor": "white",
          "plot_bgcolor": "#E5ECF6",
          "polar": {
           "angularaxis": {
            "gridcolor": "white",
            "linecolor": "white",
            "ticks": ""
           },
           "bgcolor": "#E5ECF6",
           "radialaxis": {
            "gridcolor": "white",
            "linecolor": "white",
            "ticks": ""
           }
          },
          "scene": {
           "xaxis": {
            "backgroundcolor": "#E5ECF6",
            "gridcolor": "white",
            "gridwidth": 2,
            "linecolor": "white",
            "showbackground": true,
            "ticks": "",
            "zerolinecolor": "white"
           },
           "yaxis": {
            "backgroundcolor": "#E5ECF6",
            "gridcolor": "white",
            "gridwidth": 2,
            "linecolor": "white",
            "showbackground": true,
            "ticks": "",
            "zerolinecolor": "white"
           },
           "zaxis": {
            "backgroundcolor": "#E5ECF6",
            "gridcolor": "white",
            "gridwidth": 2,
            "linecolor": "white",
            "showbackground": true,
            "ticks": "",
            "zerolinecolor": "white"
           }
          },
          "shapedefaults": {
           "line": {
            "color": "#2a3f5f"
           }
          },
          "ternary": {
           "aaxis": {
            "gridcolor": "white",
            "linecolor": "white",
            "ticks": ""
           },
           "baxis": {
            "gridcolor": "white",
            "linecolor": "white",
            "ticks": ""
           },
           "bgcolor": "#E5ECF6",
           "caxis": {
            "gridcolor": "white",
            "linecolor": "white",
            "ticks": ""
           }
          },
          "title": {
           "x": 0.05
          },
          "xaxis": {
           "automargin": true,
           "gridcolor": "white",
           "linecolor": "white",
           "ticks": "",
           "title": {
            "standoff": 15
           },
           "zerolinecolor": "white",
           "zerolinewidth": 2
          },
          "yaxis": {
           "automargin": true,
           "gridcolor": "white",
           "linecolor": "white",
           "ticks": "",
           "title": {
            "standoff": 15
           },
           "zerolinecolor": "white",
           "zerolinewidth": 2
          }
         }
        },
        "title": {
         "text": "Simulation - Categorical"
        },
        "width": 800,
        "xaxis": {
         "anchor": "y",
         "domain": [
          0,
          0.98
         ],
         "type": "date"
        },
        "xaxis2": {
         "anchor": "y2",
         "domain": [
          0,
          0.98
         ],
         "matches": "x",
         "showticklabels": false,
         "type": "date"
        },
        "xaxis3": {
         "anchor": "y3",
         "domain": [
          0,
          0.98
         ],
         "matches": "x",
         "showticklabels": false,
         "type": "date"
        },
        "xaxis4": {
         "anchor": "y4",
         "domain": [
          0,
          0.98
         ],
         "matches": "x",
         "showticklabels": false,
         "type": "date"
        },
        "xaxis5": {
         "anchor": "y5",
         "domain": [
          0,
          0.98
         ],
         "matches": "x",
         "showticklabels": false,
         "type": "date"
        },
        "xaxis6": {
         "anchor": "y6",
         "domain": [
          0,
          0.98
         ],
         "matches": "x",
         "showticklabels": false,
         "type": "date"
        },
        "yaxis": {
         "anchor": "x",
         "domain": [
          0,
          0.14166666666666666
         ],
         "title": {
          "text": "value"
         }
        },
        "yaxis2": {
         "anchor": "x2",
         "domain": [
          0.17166666666666666,
          0.31333333333333335
         ],
         "title": {
          "text": "value"
         }
        },
        "yaxis3": {
         "anchor": "x3",
         "domain": [
          0.3433333333333333,
          0.485
         ],
         "title": {
          "text": "value"
         }
        },
        "yaxis4": {
         "anchor": "x4",
         "domain": [
          0.515,
          0.6566666666666667
         ],
         "title": {
          "text": "value"
         }
        },
        "yaxis5": {
         "anchor": "x5",
         "domain": [
          0.6866666666666666,
          0.8283333333333334
         ],
         "title": {
          "text": "value"
         }
        },
        "yaxis6": {
         "anchor": "x6",
         "domain": [
          0.8583333333333333,
          1
         ],
         "title": {
          "text": "value"
         }
        }
       }
      }
     },
     "metadata": {},
     "output_type": "display_data"
    }
   ],
   "source": [
    "import plotly.express as px\n",
    "\n",
    "\n",
    "def plot_timeline(data, **kwargs):\n",
    "    df = (\n",
    "        pd.DataFrame(data, columns=['ds', 'obj', 'key', 'value'])\n",
    "        .assign(name=lambda df_: df_['obj'] + ' - ' + df_['key'],\n",
    "                end_ts=lambda df_: df_.groupby(['obj', 'key'])['ds'].shift(-1).fillna(machine.now_dt.datetime),\n",
    "                value=lambda df_: df_['value'].astype(str))\n",
    "    )\n",
    "    if df.empty:\n",
    "        return\n",
    "\n",
    "    fig = px.timeline(df, facet_row='name', x_start='ds', x_end='end_ts', y='value',\n",
    "                      title='Simulation - Categorical', color='obj', **kwargs)\n",
    "    fig.for_each_annotation(lambda a: a.update(text=a.text.split(' - ')[-1]))\n",
    "    fig.update_yaxes(matches=None)\n",
    "    fig.show()\n",
    "\n",
    "\n",
    "def plot_numerical(data, **kwargs):\n",
    "\n",
    "    df = pd.DataFrame(data, columns=['ds', 'obj', 'key', 'value'])\n",
    "    df['end_ts'] = df['ds'].shift(-1).fillna(machine.now_dt.datetime)\n",
    "    if df.empty:\n",
    "        return\n",
    "\n",
    "    fig = px.line(df, x='ds', y='value', color='obj', facet_row='key',\n",
    "                  title='Simulation - Numerical', **kwargs)\n",
    "    fig.update_yaxes(matches=None)\n",
    "    fig.for_each_annotation(lambda a: a.update(text=a.text.replace('key=', '')))\n",
    "    fig.show()\n",
    "\n",
    "\n",
    "machine = list(machines.values())[0]\n",
    "\n",
    "\n",
    "plot_timeline(\n",
    "    operator.data['categorical']\n",
    "    + machine.data['categorical']\n",
    "    # + sum([list(p.bom.values())[0]['consumable'].data['categorical']\n",
    "    #        for p in machine.programs.values()], [])\n",
    "    + machine.schedule.data['categorical']\n",
    ", width=800, height=1000)\n",
    "\n",
    "# plot_numerical(\n",
    "#     machine.data['numerical']\n",
    "#     + operator.data['numerical']\n",
    "#     + sum([list(p.bom.values())[0]['consumable'].data['numerical']\n",
    "#            for p in machine.programs.values()], [])\n",
    "# ,width=800, height=1400)"
   ]
  },
  {
   "cell_type": "code",
   "execution_count": null,
   "metadata": {},
   "outputs": [],
   "source": []
  },
  {
   "cell_type": "code",
   "execution_count": null,
   "metadata": {},
   "outputs": [],
   "source": []
  },
  {
   "cell_type": "code",
   "execution_count": null,
   "metadata": {},
   "outputs": [],
   "source": []
  },
  {
   "cell_type": "code",
   "execution_count": null,
   "metadata": {},
   "outputs": [],
   "source": []
  },
  {
   "cell_type": "code",
   "execution_count": null,
   "metadata": {},
   "outputs": [],
   "source": []
  },
  {
   "cell_type": "code",
   "execution_count": null,
   "metadata": {},
   "outputs": [],
   "source": [
    "%load_ext autoreload\n",
    "%autoreload 2\n",
    "\n",
    "# Config\n",
    "import logging\n",
    "import sys\n",
    "\n",
    "import arrow\n",
    "import matplotlib.pyplot as plt\n",
    "import pandas as pd\n",
    "import simpy\n",
    "\n",
    "from src.machine import *\n",
    "from src.operator import *\n",
    "from src.utils import *\n",
    "from src.base import *\n",
    "\n",
    "\n",
    "logging.basicConfig(\n",
    "     stream=sys.stdout,\n",
    "     level=logging.DEBUG,\n",
    "     format='%(asctime)s - %(name)s - %(levelname)-7s - %(message)s',\n",
    "     datefmt='%H:%M:%S'\n",
    " )\n",
    "logger = logging.getLogger(__name__)\n",
    "logger.info('Starting simulation')\n",
    "\n",
    "\n",
    "# Simulation\n",
    "start = arrow.now('Europe/Helsinki')\n",
    "env = simpy.Environment(initial_time=start.timestamp())\n",
    "machine = Machine(env)\n",
    "operator = Operator(env).assign_machine(machine)\n",
    "\n",
    "env.run(until=start.timestamp() + 7 * 24 * 60 * 60)"
   ]
  },
  {
   "cell_type": "markdown",
   "metadata": {},
   "source": [
    "Missing:\n",
    "- Planned maintenance\n",
    "- Material / batch ids (materiaali-id voi olla string)\n",
    "- Collectng events (debug / info / warning / error) --> logs not for now, separate variable when necessary, error/stop code most critical for now (integer) --> exact variables in Excel\n",
    "- Mappings from string states into integers / boolean\n",
    "- Randomization of fails - \"global fail proba based on last maintenance\"\n",
    "- Integration: Pull/push? Taking snapshots of the machine state vs. pushing e.g. error\n",
    "- Cumulative: Consumable\n",
    "- Program: add part counter / target / postprocessing step that identifies failed  \n",
    "- Randomization of time\n"
   ]
  },
  {
   "cell_type": "code",
   "execution_count": null,
   "metadata": {},
   "outputs": [],
   "source": [
    "# 19.12. palaveri"
   ]
  },
  {
   "cell_type": "code",
   "execution_count": null,
   "metadata": {},
   "outputs": [],
   "source": []
  },
  {
   "cell_type": "code",
   "execution_count": null,
   "metadata": {},
   "outputs": [],
   "source": []
  }
 ],
 "metadata": {
  "kernelspec": {
   "display_name": "Python 3.10.6 ('machine-simulator')",
   "language": "python",
   "name": "python3"
  },
  "language_info": {
   "codemirror_mode": {
    "name": "ipython",
    "version": 3
   },
   "file_extension": ".py",
   "mimetype": "text/x-python",
   "name": "python",
   "nbconvert_exporter": "python",
   "pygments_lexer": "ipython3",
   "version": "3.10.6"
  },
  "orig_nbformat": 4,
  "vscode": {
   "interpreter": {
    "hash": "b86b61ad7403b687575801a2ca7ac5a1ca8629d0c5abae510c3237269d55f421"
   }
  }
 },
 "nbformat": 4,
 "nbformat_minor": 2
}
